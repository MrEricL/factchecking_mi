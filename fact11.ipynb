{
 "cells": [
  {
   "cell_type": "markdown",
   "metadata": {},
   "source": [
    "11)\n",
    "\n",
    "Conclusion for BTU/acre over 30 years    \n",
    "\n",
    "Permian: 5.12e+8 BTU    \n",
    "Wind: 1.99e+14 BTU        \n",
    "Solar: 4.15e+4     \n",
    "\n"
   ]
  },
  {
   "cell_type": "code",
   "execution_count": 22,
   "metadata": {},
   "outputs": [],
   "source": [
    "#ignore this is just to prettify the output\n",
    "from decimal import Decimal\n",
    "def scino(x):\n",
    "    return \"{:.2e}\".format(Decimal(str(x)))"
   ]
  },
  {
   "cell_type": "markdown",
   "metadata": {},
   "source": [
    "#### Permian         \n",
    "All data based on source in email    "
   ]
  },
  {
   "cell_type": "code",
   "execution_count": 23,
   "metadata": {},
   "outputs": [
    {
     "name": "stdout",
     "output_type": "stream",
     "text": [
      "2.7822397e+16 BTU\n",
      "5.12e+8 BTU per acre\n"
     ]
    }
   ],
   "source": [
    "total_gas =  2.81e11 * 1.037e3 \n",
    "total_oil =  4.83e9 * 5.7e6\n",
    "sum_energy = total_gas + total_oil\n",
    "\n",
    "size = 2.2e5 * 2.47e2 #km2 -> acre conversion\n",
    "per_acre = sum_energy/size\n",
    "\n",
    "print(sum_energy, \"BTU\")\n",
    "print(scino(per_acre), \"BTU per acre\")"
   ]
  },
  {
   "cell_type": "markdown",
   "metadata": {},
   "source": [
    "#### Wind Energy\n",
    "\n",
    "Wind energy = 3.0 ± 1.7 MW/km2 \n",
    "\n",
    "1 km2 = 2.47e2 acres\n",
    "1 yr = 8760 hrs\n",
    "\n",
    "1MW = 3.4e6 BTU\n",
    "\n",
    "[NREL pg 14](https://www.nrel.gov/docs/fy09osti/45834.pdf)\n"
   ]
  },
  {
   "cell_type": "code",
   "execution_count": 24,
   "metadata": {},
   "outputs": [
    {
     "name": "stdout",
     "output_type": "stream",
     "text": [
      "1.99e+14 BTU per acre\n",
      "NOTE: this is only per acre\n"
     ]
    }
   ],
   "source": [
    "wind_per_km = 3 #MW H \n",
    "wind_per_ac = wind_per_km * 2.47e2 #MW H\n",
    "\n",
    "wind_per_30yr = wind_per_ac * 8760 * 30 * 0.3\n",
    "\n",
    "wind_btu = wind_per_30yr * 3.4e6\n",
    "\n",
    "print (scino(wind_btu), \"BTU per acre\")\n",
    "print (\"NOTE: this is only per acre\")\n"
   ]
  },
  {
   "cell_type": "markdown",
   "metadata": {},
   "source": [
    "#### Solar Energy        \n",
    "~4.5 kWh/m^2/day\n",
    "[Source](https://www.nrel.gov/gis/images/map_pv_national_lo-res.jpg)\n"
   ]
  },
  {
   "cell_type": "code",
   "execution_count": 25,
   "metadata": {},
   "outputs": [
    {
     "name": "stdout",
     "output_type": "stream",
     "text": [
      "4.15e+4 BTU per acre\n"
     ]
    }
   ],
   "source": [
    "solar_per_m = 4.5\n",
    "solar_per_ac = solar_per_m * 0.000247105 \n",
    "\n",
    "solar_per_30yr = solar_per_ac * 365 * 30 # per 30 yr\n",
    "solar_btu = solar_per_30yr * 3412 # kwh to btu\n",
    "\n",
    "print (scino(solar_btu), \"BTU per acre\")\n"
   ]
  },
  {
   "cell_type": "code",
   "execution_count": null,
   "metadata": {},
   "outputs": [],
   "source": []
  },
  {
   "cell_type": "code",
   "execution_count": null,
   "metadata": {},
   "outputs": [],
   "source": []
  }
 ],
 "metadata": {
  "kernelspec": {
   "display_name": "Python 3",
   "language": "python",
   "name": "python3"
  },
  "language_info": {
   "codemirror_mode": {
    "name": "ipython",
    "version": 3
   },
   "file_extension": ".py",
   "mimetype": "text/x-python",
   "name": "python",
   "nbconvert_exporter": "python",
   "pygments_lexer": "ipython3",
   "version": "3.7.1"
  }
 },
 "nbformat": 4,
 "nbformat_minor": 2
}
