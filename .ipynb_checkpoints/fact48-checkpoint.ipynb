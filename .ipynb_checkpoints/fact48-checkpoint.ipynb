{
 "cells": [
  {
   "cell_type": "markdown",
   "metadata": {},
   "source": [
    "48"
   ]
  },
  {
   "cell_type": "markdown",
   "metadata": {},
   "source": [
    "Email:   \n",
    "         \n",
    "Planes lead to **5 bil** of fuel   \n",
    "Datacenter leads to **4 bil** of electricity   \n",
    "   \n",
    "Calculated:      \n",
    "   \n",
    "Planes leads to **6 bil**   \n",
    "Datacenter leads to **7 bil**   "
   ]
  },
  {
   "cell_type": "markdown",
   "metadata": {},
   "source": [
    "747 Cost = 102m = 1.02e8   \n",
    "[Source](https://www.statista.com/statistics/273941/prices-of-boeing-aircraft-by-type/)     \n",
    "Use for ~27 years or 135,000 to 165,000 flight hours    \n",
    "[Source](https://www.flexport.com/blog/decommissioned-planes-salvage-value)        \n",
    "Jet fuel cost (2018) = $2.16       \n",
    "[Source](https://www.transtats.bts.gov/fuel.asp)    \n",
    "   \n",
    "5 gallons/mile flown     \n",
    "* Sources are vauge, needs to do additional verificiation but assume this is true  \n",
    "\n",
    "\n",
    "Cruising Speed = 494 mi/h to 544 mi/h\n",
    "\n",
    "[Source](http://rgl.faa.gov/Regulatory_and_Guidance_Library/rgMakeModel.nsf/0/8fcf1d1d82007a9e8625823d00778f99/$FILE/A16WE_Rev_61.pdf)\n",
    "\n",
    "\n",
    "\n",
    "\n"
   ]
  },
  {
   "cell_type": "code",
   "execution_count": 7,
   "metadata": {},
   "outputs": [],
   "source": [
    "#ignore this is just to prettify the output\n",
    "from decimal import Decimal\n",
    "def scino(x):\n",
    "    return \"{:.2e}\".format(Decimal(str(x)))"
   ]
  },
  {
   "cell_type": "code",
   "execution_count": 19,
   "metadata": {},
   "outputs": [
    {
     "name": "stdout",
     "output_type": "stream",
     "text": [
      "9.80e+0\n",
      "$ 6.23e+8\n",
      "$ 6.11e+9 or six billion dollars\n"
     ]
    }
   ],
   "source": [
    "avg_lifetime_flight = sum([135000,165000])/2\n",
    "flight_time_over_20 = avg_lifetime_flight * (20/27)\n",
    "mph = sum([494,544])/2\n",
    "\n",
    "total_fuel = 5 * mph * flight_time_over_20\n",
    "total_fuel_cost = 2.16 * total_fuel \n",
    "\n",
    "planes_per_billion = 1e9/1.02e8\n",
    "total_fuel_cost_per_billion = planes_per_billion * total_fuel_cost\n",
    "\n",
    "print(scino(planes_per_billion))\n",
    "print(\"$\", scino(total_fuel_cost))\n",
    "print(\"$\", scino(total_fuel_cost_per_billion), \"or six billion dollars\")\n"
   ]
  },
  {
   "cell_type": "markdown",
   "metadata": {},
   "source": [
    "Data Center     \n",
    "     \n",
    "Initial Capital Exp =  \\$ 2.14e8     \n",
    "      \n",
    "Operating Exp =  \\$ 1.85e7     \n",
    "    \n",
    "Electricity Cost (subset of operating) =  \\$ 7.4e7\n",
    "\n",
    "* This is for a large data center, economies of scale likely applies vs smaller\n",
    "    \n",
    "    \n",
    "Source: Same as email, page 9"
   ]
  },
  {
   "cell_type": "code",
   "execution_count": 17,
   "metadata": {},
   "outputs": [
    {
     "name": "stdout",
     "output_type": "stream",
     "text": [
      "$ 6.92e+9 or ~seven billion dollars\n"
     ]
    }
   ],
   "source": [
    "init_cost = 2.14e8 \n",
    "elect_cost = 7.4e7\n",
    "centers_per_billion = 1e9/init_cost \n",
    "\n",
    "twenty_yr_cost = centers_per_billion * elect_cost * 20\n",
    "\n",
    "\n",
    "print(\"$\", scino(twenty_yr_cost), \"or ~seven billion dollars\")"
   ]
  },
  {
   "cell_type": "code",
   "execution_count": null,
   "metadata": {},
   "outputs": [],
   "source": []
  }
 ],
 "metadata": {
  "kernelspec": {
   "display_name": "Python 3",
   "language": "python",
   "name": "python3"
  },
  "language_info": {
   "codemirror_mode": {
    "name": "ipython",
    "version": 3
   },
   "file_extension": ".py",
   "mimetype": "text/x-python",
   "name": "python",
   "nbconvert_exporter": "python",
   "pygments_lexer": "ipython3",
   "version": "3.7.1"
  }
 },
 "nbformat": 4,
 "nbformat_minor": 2
}
