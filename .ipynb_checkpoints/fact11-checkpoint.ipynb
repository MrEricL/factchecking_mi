{
 "cells": [
  {
   "cell_type": "markdown",
   "metadata": {},
   "source": [
    "11)\n",
    "\n"
   ]
  },
  {
   "cell_type": "markdown",
   "metadata": {},
   "source": [
    "Permian Basis Calculation   \n",
    "\n",
    "Gas = 2.81e11 ccf  \n",
    "Oil = 4.83e9 BOE  \n",
    "   \n",
    "     \n",
    "1 ccf = 1.037e3 BTU   \n",
    "1 BOE = 5.7e6 BTU\n",
    "\n",
    "size of basis = 8.6e4 sq miles\n",
    "\n",
    "\n",
    "Source for amount is the same  \n",
    "[Unit Conversion Source](https://www.eia.gov/tools/faqs/faq.php?id=45&t=8) and\n",
    "[Source 2](https://www.eia.gov/energyexplained/index.php?page=about_energy_units)  \n",
    "[Size pg 1](https://pubs.usgs.gov/circ/1980/0828/report.pdf) "
   ]
  },
  {
   "cell_type": "code",
   "execution_count": 2,
   "metadata": {},
   "outputs": [],
   "source": [
    "#ignore this is just to prettify the output\n",
    "from decimal import Decimal\n",
    "def scino(x):\n",
    "    return \"{:.2e}\".format(Decimal(str(x)))"
   ]
  },
  {
   "cell_type": "code",
   "execution_count": 3,
   "metadata": {},
   "outputs": [
    {
     "name": "stdout",
     "output_type": "stream",
     "text": [
      "2.7822397e+16 BTU\n",
      "1.41e+16 BTU per acre\n"
     ]
    }
   ],
   "source": [
    "total_gas =  2.81e11 * 1.037e3 \n",
    "total_oil =  4.83e9 * 5.7e6\n",
    "sum_energy = total_gas + total_oil\n",
    "\n",
    "size = 8.6e4 / 43560 #for acre conversion\n",
    "per_acre = sum_energy/size\n",
    "\n",
    "print(sum_energy, \"BTU\")\n",
    "print(scino(per_acre), \"BTU per acre\")"
   ]
  },
  {
   "cell_type": "markdown",
   "metadata": {},
   "source": [
    "Wind Energy\n",
    "\n",
    "Wind energy = 3.0 ± 1.7 MW/km2 \n",
    "* Difference: this ignores the calculations from potential wind -> recoverable energy by just getting the final number, capacity is factored in \n",
    "\n",
    "1 km2 = 2.47e2 acres\n",
    "\n",
    "\n",
    "[NREL pg 14](https://www.nrel.gov/docs/fy09osti/45834.pdf)\n"
   ]
  },
  {
   "cell_type": "code",
   "execution_count": null,
   "metadata": {},
   "outputs": [],
   "source": []
  },
  {
   "cell_type": "code",
   "execution_count": null,
   "metadata": {},
   "outputs": [],
   "source": []
  },
  {
   "cell_type": "code",
   "execution_count": null,
   "metadata": {},
   "outputs": [],
   "source": []
  }
 ],
 "metadata": {
  "kernelspec": {
   "display_name": "Python 3",
   "language": "python",
   "name": "python3"
  },
  "language_info": {
   "codemirror_mode": {
    "name": "ipython",
    "version": 3
   },
   "file_extension": ".py",
   "mimetype": "text/x-python",
   "name": "python",
   "nbconvert_exporter": "python",
   "pygments_lexer": "ipython3",
   "version": "3.7.1"
  }
 },
 "nbformat": 4,
 "nbformat_minor": 2
}
