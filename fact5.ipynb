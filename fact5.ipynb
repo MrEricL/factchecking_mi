{
 "cells": [
  {
   "cell_type": "markdown",
   "metadata": {},
   "source": [
    "#Calculations for #5"
   ]
  },
  {
   "cell_type": "markdown",
   "metadata": {},
   "source": [
    "5    \n",
    "Cost of rig:  4.9 million to 8.3 million    \n",
    "[Source](https://www.eia.gov/analysis/studies/drilling/pdf/upstream.pdf)    \n",
    "Barrels/day (Feb 2019): 15 million ft^3    \n",
    "[Source](https://www.eia.gov/petroleum/drilling/#tabs-summary-1)    \n",
    "Gas to kw/h: 1 m^3 gas to 8.816 kw/h, 1ft^3 = 0.028 m^3   \n",
    "[Source](https://www.volker-quaschning.de/datserv/faktoren/index_e.php)    \n",
    "Number of rigs operatering: 61   \n",
    "[Source](http://insights.energentgroup.com/weekly-rig-counts-gas-in-marcellus)    \n",
    "\n",
    "Assumptions:\n",
    "* Every 1 million spent on the rig is equivalent to consistent increase in ft^3 gas produced\n",
    "* Upkeep per day is not factored \n",
    "* Rig runs every single day (no seasonal slowdown etc)\n",
    "* Consistent output of gas every single day"
   ]
  },
  {
   "cell_type": "code",
   "execution_count": 1,
   "metadata": {},
   "outputs": [
    {
     "name": "stdout",
     "output_type": "stream",
     "text": [
      "rig cost:  6.60e+6\n",
      "kwh per year:  1.35e+9\n",
      "kwh per million in year:  2.05e+8\n",
      "kwh per million in 30 year:  6.14e+9\n",
      "totals to 6bil kwh per every million dollar in hardware over 30 years\n"
     ]
    }
   ],
   "source": [
    "from decimal import Decimal\n",
    "\n",
    "num_rigs = 61\n",
    "average_cost_rig = sum([4.9e6, 8.3e6])/2\n",
    "barrel_day = 1.5e7/num_rigs\n",
    "barrel_year = barrel_day*365\n",
    "kwh_year = barrel_year * (0.028) * (8.816)\n",
    "\n",
    "kwh_year_per_million = kwh_year / average_cost_rig *1e6\n",
    "\n",
    "print(\"rig cost: \",\"{:.2e}\".format(Decimal(str(average_cost_rig))))\n",
    "print(\"kwh per year: \",\"{:.2e}\".format(Decimal(str(kwh_year))))\n",
    "print(\"kwh per million in year: \",\"{:.2e}\".format(Decimal(str(kwh_year_per_million))))\n",
    "print(\"kwh per million in 30 year: \",\"{:.2e}\".format(Decimal(str(kwh_year_per_million*30))))\n",
    "print(\"totals to 6bil kwh per every million dollar in hardware over 30 years\")"
   ]
  },
  {
   "cell_type": "code",
   "execution_count": null,
   "metadata": {},
   "outputs": [],
   "source": []
  }
 ],
 "metadata": {
  "kernelspec": {
   "display_name": "Python 3",
   "language": "python",
   "name": "python3"
  },
  "language_info": {
   "codemirror_mode": {
    "name": "ipython",
    "version": 3
   },
   "file_extension": ".py",
   "mimetype": "text/x-python",
   "name": "python",
   "nbconvert_exporter": "python",
   "pygments_lexer": "ipython3",
   "version": "3.6.7"
  }
 },
 "nbformat": 4,
 "nbformat_minor": 2
}
