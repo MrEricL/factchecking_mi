{
 "cells": [
  {
   "cell_type": "markdown",
   "metadata": {},
   "source": [
    "# Calculations for #5"
   ]
  },
  {
   "cell_type": "markdown",
   "metadata": {},
   "source": [
    "5    \n",
    "Cost of rig:  4.9 million to 8.3 million    \n",
    "[Source](https://www.eia.gov/analysis/studies/drilling/pdf/upstream.pdf)    \n",
    "Barrels/day (Feb 2019): 15 million ft^3    \n",
    "[Source](https://www.eia.gov/petroleum/drilling/#tabs-summary-1)    \n",
    "Gas to kw/h: 1 m^3 gas to 8.816 kw/h, 1ft^3 = 0.028 m^3   \n",
    "[Source](https://www.volker-quaschning.de/datserv/faktoren/index_e.php)     \n",
    "Number of rigs: 61   \n",
    "[Source](http://insights.energentgroup.com/weekly-rig-counts-gas-in-marcellus)       \n",
    "    \n",
    "Assumptions:\n",
    "* Every 1 million spent on the rig is equivalent to consistent increase in ft^3 gas produced\n",
    "* Upkeep per day is not factored (ballparked around $ 2500 per day)\n",
    "* Rig runs every single day (no seasonal slowdown etc)\n",
    "* Consistent output of gas every single day\n",
    "* No rigs enter or leave the area\n"
   ]
  },
  {
   "cell_type": "markdown",
   "metadata": {},
   "source": [
    "Results for $ 1m over 30 years:\n",
    "Assumed: 400m kwh\n",
    "Average rig cost: 100m kwh\n",
    "Cheapest rig cost: 136m kwh\n",
    "Expensive rig cost: 80m kwh\n",
    "Average rig + upkeep: 19m kwh"
   ]
  },
  {
   "cell_type": "code",
   "execution_count": 3,
   "metadata": {},
   "outputs": [
    {
     "name": "stdout",
     "output_type": "stream",
     "text": [
      "rig cost: $ 6.60e+6\n",
      "kwh per year:  2.22e+7  kwh\n",
      "kwh per million in year:  3.36e+6  kwh\n",
      "kwh per million in 30 year:  1.01e+8  kwh\n",
      "totals to 100 kwh per every million dollar in hardware over 30 years\n"
     ]
    }
   ],
   "source": [
    "# basic calculation using average rig cost\n",
    "from decimal import Decimal\n",
    "\n",
    "num_rigs = 61\n",
    "average_cost_rig = sum([4.9e6, 8.3e6])/2\n",
    "\n",
    "# how much is produced by 1 rig in 1 day\n",
    "barrel_day = 1.5e7/num_rigs\n",
    "\n",
    "# how much is produced by 1 rig in 1 year\n",
    "barrel_year = barrel_day*365\n",
    "\n",
    "#  produced in ft  * convert to m * convert to kwh\n",
    "kwh_year = barrel_year * (0.028) * (8.816)\n",
    "\n",
    "# calculate kwh per million dollar spent on rig\n",
    "kwh_year_per_million = kwh_year / average_cost_rig *1e6\n",
    "\n",
    "print(\"rig cost: $\",\"{:.2e}\".format(Decimal(str(average_cost_rig))))\n",
    "print(\"kwh per year: \",\"{:.2e}\".format(Decimal(str(kwh_year))), \" kwh\")\n",
    "print(\"kwh per million in year: \",\"{:.2e}\".format(Decimal(str(kwh_year_per_million))), \" kwh\")\n",
    "print(\"kwh per million in 30 year: \",\"{:.2e}\".format(Decimal(str(kwh_year_per_million*30))), \" kwh\")\n",
    "print(\"totals to 100 million kwh / every million dollar in hardware over 30 years\")"
   ]
  },
  {
   "cell_type": "code",
   "execution_count": 7,
   "metadata": {},
   "outputs": [
    {
     "name": "stdout",
     "output_type": "stream",
     "text": [
      "kwh per million in 30 year:  1.36e+8  kwh\n",
      "totals to 136 million kwh/every million dollar in hardware over 30 years\n"
     ]
    }
   ],
   "source": [
    "# Same math using lowest rig cost\n",
    "from decimal import Decimal\n",
    "\n",
    "num_rigs = 61\n",
    "average_cost_rig = 4.9e6\n",
    "barrel_day = 1.5e7/num_rigs\n",
    "barrel_year = barrel_day*365\n",
    "kwh_year = barrel_year * (0.028) * (8.816)\n",
    "kwh_year_per_million = kwh_year / average_cost_rig *1e6\n",
    "\n",
    "\n",
    "print(\"kwh per million in 30 year: \",\"{:.2e}\".format(Decimal(str(kwh_year_per_million*30))), \" kwh\")\n",
    "print(\"totals to 136 million kwh/every million dollar in hardware over 30 years\")"
   ]
  },
  {
   "cell_type": "code",
   "execution_count": 8,
   "metadata": {},
   "outputs": [
    {
     "name": "stdout",
     "output_type": "stream",
     "text": [
      "kwh per million in 30 year:  8.01e+7  kwh\n",
      "totals to 80 million kwh/every million dollar in hardware over 30 years\n"
     ]
    }
   ],
   "source": [
    "# Same math using highest rig cost\n",
    "from decimal import Decimal\n",
    "\n",
    "num_rigs = 61\n",
    "average_cost_rig = 8.3e6\n",
    "barrel_day = 1.5e7/num_rigs\n",
    "barrel_year = barrel_day*365\n",
    "kwh_year = barrel_year * (0.028) * (8.816)\n",
    "kwh_year_per_million = kwh_year / average_cost_rig *1e6\n",
    "\n",
    "\n",
    "print(\"kwh per million in 30 year: \",\"{:.2e}\".format(Decimal(str(kwh_year_per_million*30))), \" kwh\")\n",
    "print(\"totals to 80 million kwh/every million dollar in hardware over 30 years\")"
   ]
  },
  {
   "cell_type": "code",
   "execution_count": 13,
   "metadata": {},
   "outputs": [
    {
     "name": "stdout",
     "output_type": "stream",
     "text": [
      "kwh per million in year:  2.95e+6  kwh\n",
      "kwh per million in 30 years:  1.96e+7  kwh\n"
     ]
    }
   ],
   "source": [
    "# basic calculation using average rig cost and factoring upkeep\n",
    "from decimal import Decimal\n",
    "\n",
    "num_rigs = 61\n",
    "average_cost_rig = sum([4.9e6, 8.3e6])/2 \n",
    "\n",
    "# how much is produced by 1 rig in 1 day\n",
    "barrel_day = 1.5e7/num_rigs\n",
    "\n",
    "# how much is produced by 1 rig in 1 year\n",
    "barrel_year = barrel_day*365\n",
    "\n",
    "#  produced in ft  * convert to m * convert to kwh\n",
    "kwh_year = barrel_year * (0.028) * (8.816)\n",
    "\n",
    "# calculate kwh per million dollar spent on rig\n",
    "kwh_year_per_million = kwh_year / (average_cost_rig+365*2500) *1e6\n",
    "kwh_30year_per_million = (kwh_year / (average_cost_rig+365*2500*30) *1e6)*30\n",
    "\n",
    "\n",
    "print(\"kwh per million in year: \",\"{:.2e}\".format(Decimal(str(kwh_year_per_million))), \" kwh\")\n",
    "print(\"kwh per million in 30 years: \",\"{:.2e}\".format(Decimal(str(kwh_30year_per_million))), \" kwh\")\n"
   ]
  },
  {
   "cell_type": "code",
   "execution_count": null,
   "metadata": {},
   "outputs": [],
   "source": []
  }
 ],
 "metadata": {
  "kernelspec": {
   "display_name": "Python 3",
   "language": "python",
   "name": "python3"
  },
  "language_info": {
   "codemirror_mode": {
    "name": "ipython",
    "version": 3
   },
   "file_extension": ".py",
   "mimetype": "text/x-python",
   "name": "python",
   "nbconvert_exporter": "python",
   "pygments_lexer": "ipython3",
   "version": "3.6.7"
  }
 },
 "nbformat": 4,
 "nbformat_minor": 2
}
