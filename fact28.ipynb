{
 "cells": [
  {
   "cell_type": "markdown",
   "metadata": {},
   "source": [
    "28)\n",
    "\n",
    "24 kWh battery requires 88.9 GJ to produce\n",
    "\n",
    "1 boe = 5.6 GJ     \n",
    "1kwh = 0.0006 boe  \n",
    "\n",
    "\n",
    "[Source](https://www.researchgate.net/publication/316884465_Manufacturing_energy_analysis_of_lithium_ion_battery_pack_for_electric_vehicles)"
   ]
  },
  {
   "cell_type": "markdown",
   "metadata": {},
   "source": [
    "#### Conclusion\n",
    "15 boe to produce the 24kwh battery         \n",
    "1100 of the 24kwh batteries needed for it's own production"
   ]
  },
  {
   "cell_type": "code",
   "execution_count": 17,
   "metadata": {},
   "outputs": [
    {
     "name": "stdout",
     "output_type": "stream",
     "text": [
      "15.875       0.014\n",
      "1102.431\n"
     ]
    }
   ],
   "source": [
    "import math\n",
    "boe_produce = 88.9 / 5.6\n",
    "\n",
    "boe_store = 24 * 0.0006\n",
    "\n",
    "power_prod = boe_produce/ boe_store\n",
    "\n",
    "#too many trailing 0 so I round'd it\n",
    "print(round(boe_produce, 3), \"     \", round(boe_store, 3))\n",
    "print(round(power_prod, 3))"
   ]
  },
  {
   "cell_type": "code",
   "execution_count": null,
   "metadata": {},
   "outputs": [],
   "source": []
  }
 ],
 "metadata": {
  "kernelspec": {
   "display_name": "Python 3",
   "language": "python",
   "name": "python3"
  },
  "language_info": {
   "codemirror_mode": {
    "name": "ipython",
    "version": 3
   },
   "file_extension": ".py",
   "mimetype": "text/x-python",
   "name": "python",
   "nbconvert_exporter": "python",
   "pygments_lexer": "ipython3",
   "version": "3.7.1"
  }
 },
 "nbformat": 4,
 "nbformat_minor": 2
}
